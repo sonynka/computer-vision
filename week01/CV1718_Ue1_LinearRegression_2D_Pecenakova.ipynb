{
 "cells": [
  {
   "cell_type": "markdown",
   "metadata": {},
   "source": [
    "# Lineare Regression 2D"
   ]
  },
  {
   "cell_type": "markdown",
   "metadata": {},
   "source": [
    "<p>Nachdem klar ist wie die Lineare Regression im allgemeinen funktioniert, soll das Verfahren auf 2D Daten erweitert werden. Hierf&uuml;r wird ein Foto aus dem Internet geladen und der Gr&uuml;n-Kanal gel&ouml;scht. Mithilfe der Regression und dem Rot/Blau Kanal sollen die verlorenen Daten wieder hergestellt werden.</p>\n",
    "\n",
    "<p>Dieses Jupyter Notebook steht auch zum <a href=\"http://home.htw-berlin.de/~hezel/computervision/WS1718/uebung1/LinearRegression_2D_Vorlage.ipynb\" target=\"_blank\">download</a> zur Verf&uuml;gung.</p>\n",
    "\n",
    "<hr />\n",
    "\n",
    "<h2>Einleitung</h2>\n"
   ]
  },
  {
   "cell_type": "code",
   "execution_count": null,
   "metadata": {
    "collapsed": true
   },
   "outputs": [],
   "source": [
    "import matplotlib.pyplot as plt\n",
    "from mpl_toolkits.mplot3d import Axes3D\n",
    "from skimage import io\n",
    "import numpy as np\n",
    "\n",
    "# enable interactive plots\n",
    "%matplotlib notebook"
   ]
  },
  {
   "cell_type": "code",
   "execution_count": null,
   "metadata": {
    "collapsed": true
   },
   "outputs": [],
   "source": [
    "def show_image(image):\n",
    "    plt.close() # close old figures\n",
    "    fig = plt.figure(figsize = (8,8))    \n",
    "    ax = fig.add_subplot(1, 1, 1)\n",
    "    fig.tight_layout()\n",
    "    ax.imshow(image, interpolation='nearest')"
   ]
  },
  {
   "cell_type": "code",
   "execution_count": null,
   "metadata": {},
   "outputs": [],
   "source": [
    "# load and show the trainings image\n",
    "img = io.imread(\"http://home.htw-berlin.de/~hezel/computervision/WS1718/uebung1/summer.jpg\")\n",
    "show_image(img)"
   ]
  },
  {
   "cell_type": "code",
   "execution_count": null,
   "metadata": {},
   "outputs": [],
   "source": [
    "# TODO print the shape of the image data (rows, columns)\n",
    "rows = img.shape[0]\n",
    "cols = img.shape[1]\n",
    "print(img.shape)"
   ]
  },
  {
   "cell_type": "code",
   "execution_count": null,
   "metadata": {},
   "outputs": [],
   "source": [
    "# TODO put the pixels in linear order (scanline) and store them in x\n",
    "\n",
    "x = np.reshape(img, [-1, 3])\n",
    "print(x.shape)"
   ]
  },
  {
   "cell_type": "code",
   "execution_count": null,
   "metadata": {},
   "outputs": [],
   "source": [
    "# TODO print the first three pixels\n",
    "print(x[:3])"
   ]
  },
  {
   "cell_type": "code",
   "execution_count": null,
   "metadata": {
    "collapsed": true
   },
   "outputs": [],
   "source": [
    "# 3D color distribution\n",
    "def show_color_distribution(x_in):\n",
    "    plt.close() # close old figures\n",
    "    fig = plt.figure(figsize = (9,9))\n",
    "    ax = fig.add_subplot(1, 1, 1, projection='3d')\n",
    "    \n",
    "    ax.set_xlim3d(0, 255)\n",
    "    ax.set_ylim3d(0, 255)\n",
    "    ax.set_zlim3d(0, 255)\n",
    "    ax.set_xlabel('R')\n",
    "    ax.set_ylabel('G')\n",
    "    ax.set_zlabel('B')\n",
    "    \n",
    "    # sub sampling: start at 0 and collect very 100th element\n",
    "    x_sub = x_in[::100]  \n",
    "    \n",
    "    # colors need to be between 0 ... 1\n",
    "    rgb = x_sub / 255\n",
    "    \n",
    "    # transpose to have 3 rows, for each color channel one\n",
    "    x_sub_t = np.transpose(x_sub)    \n",
    "    \n",
    "    # display the colors in the diagram\n",
    "    ax.scatter(x_sub_t[0] , x_sub_t[1] , x_sub_t[2], s=50, facecolor=rgb)   # colored dots\n",
    "    \n",
    "    plt.show(fig)"
   ]
  },
  {
   "cell_type": "code",
   "execution_count": null,
   "metadata": {},
   "outputs": [],
   "source": [
    "show_color_distribution(x)"
   ]
  },
  {
   "cell_type": "markdown",
   "metadata": {},
   "source": [
    "<hr />\n",
    "<h2>Problem</h2>\n",
    "\n",
    "<p>Alle Werte vom Grün-Kanal werden auf null gesetzt und sollen in einen späteren Schritt wieder rekonstruiert werden.</p>"
   ]
  },
  {
   "cell_type": "code",
   "execution_count": null,
   "metadata": {},
   "outputs": [],
   "source": [
    "xp0 = np.copy(x)        # copy of the original data\n",
    "xp0[:,1] = 0            # set all values of the G-channel to zero\n",
    "img_pred = np.reshape(xp0, [rows, cols, 3]) # reshape to an 2D RGB image\n",
    "img_pred[0][0]"
   ]
  },
  {
   "cell_type": "code",
   "execution_count": null,
   "metadata": {},
   "outputs": [],
   "source": [
    "show_image(img_pred)"
   ]
  },
  {
   "cell_type": "code",
   "execution_count": null,
   "metadata": {},
   "outputs": [],
   "source": [
    "show_color_distribution(xp0) "
   ]
  },
  {
   "cell_type": "markdown",
   "metadata": {},
   "source": [
    "<hr />\n",
    "<h2>Aufgabe</h2>\n",
    "\n",
    "<p>Verwenden sie die Lineare&nbsp;Regression um aus den R und B Werten des Bildes den Grün-Kanal wieder herzustellen. Gehen sie dabei so vor wie im 1D Beispiel. Erweitern sie aber die Predictions- und Gradientenformeln um mit der zusätzlichen Dimension zurecht zu kommen. Berechnen sie die den Rekonstruktionsfehler und Plotten sie das Bild mit den rekonstruierten Grün-Kanal.</p>\n"
   ]
  },
  {
   "cell_type": "code",
   "execution_count": null,
   "metadata": {},
   "outputs": [],
   "source": [
    "# TODO\n",
    "t0 =  0.01\n",
    "t1 = -0.01 \n",
    "t2 = 0.001\n",
    "\n",
    "# learn rate\n",
    "m = rows * cols\n",
    "alpha = 0.000003 / m\n",
    "\n",
    "# predictions per iteration\n",
    "predictions = []\n",
    "y = x[:,1]\n",
    "\n",
    "# train for 30 iterations\n",
    "for i in range(30):\n",
    "    \n",
    "    # TODO prediction\n",
    "    y_pred = t0 + t1*x[:,0] + t2*x[:,2]\n",
    "#     print('y_pred', y_pred[0])\n",
    "#     print('x', x[0])\n",
    "    \n",
    "    # TODO derivative\n",
    "    d_t0 = np.sum(y_pred - y)\n",
    "    d_t1 = np.sum((y_pred - y) * x[:,0])\n",
    "    d_t2 = np.sum((y_pred - y) * x[:,2])\n",
    "\n",
    "#     TODO update theta\n",
    "    t0 = t0 - alpha * d_t0\n",
    "    t1 = t1 - alpha * d_t1\n",
    "    t2 = t2 - alpha * d_t2\n",
    "    \n",
    "    # print error\n",
    "    print(\"{:2d} y_pred: {:3.0f} y: {:3d}\".format(i, y_pred[0], y[0]))\n",
    " \n",
    "    # remember the current predictions \n",
    "    predictions.append(y_pred)\n",
    "    \n",
    "x_pred = x.copy()\n",
    "x_pred[:,1] = y_pred\n",
    "img_pred = np.reshape(x_pred, [rows, cols, 3]) # reshape to an 2D RGB image\n",
    "img_pred[0][0] \n",
    "show_image(img_pred)"
   ]
  },
  {
   "cell_type": "markdown",
   "metadata": {},
   "source": [
    "<hr />\n",
    "<h2>Ergebnis</h2>\n",
    "\n",
    "<p>Das rekonstruierte Bild könnte wie folgt aussehen:</p>\n",
    "\n",
    "<p><img alt=\"\" src=\"http://home.htw-berlin.de/~hezel/computervision/WS1718/uebung1/LinearRegression_2D_Result.png\" style=\"height:640px; margin-bottom:0px; margin-top:0px; width:640px\" /></p>\n"
   ]
  },
  {
   "cell_type": "markdown",
   "metadata": {},
   "source": [
    "<p>&nbsp;</p>\n",
    "\n",
    "<hr />\n",
    "<p>&nbsp;</p>\n",
    "\n",
    "<h2>Abgabe</h2>\n",
    "\n",
    "<p>Das von ihnen erstellte Notebook muss sp&auml;testens bis zum 19. November 2017 um 23:59 UTC+1 per E-Mail an&nbsp;<a href=\"mailto:hezel@htw-berlin.de\" target=\"_blank\">hezel@htw-berlin.de</a>&nbsp;eingesendet werden. Verwenden sie als Betreff bitte &quot;CV1718 &Uuml;bung1&nbsp;&lt;NAME&gt;&quot; und als Notebook Name &quot;CV1718_Ue1_LinearRegression_2D_NAME.ipynb&quot;. Bevor sie mir eine Mail schicken, entfernen sie bitte &uuml;ber &quot;Kernel&quot; -&gt; &quot;Restart and Clear Output&quot; s&auml;mtlichen von Python erstellten Inhalt und speichern anschlie&szlig;end das Notebook &quot;File&quot; -&gt; &quot;Save and Checkpoint&quot;.</p>\n"
   ]
  }
 ],
 "metadata": {
  "anaconda-cloud": {},
  "kernelspec": {
   "display_name": "Python 3",
   "language": "python",
   "name": "python3"
  },
  "language_info": {
   "codemirror_mode": {
    "name": "ipython",
    "version": 3
   },
   "file_extension": ".py",
   "mimetype": "text/x-python",
   "name": "python",
   "nbconvert_exporter": "python",
   "pygments_lexer": "ipython3",
   "version": "3.6.1"
  }
 },
 "nbformat": 4,
 "nbformat_minor": 1
}
